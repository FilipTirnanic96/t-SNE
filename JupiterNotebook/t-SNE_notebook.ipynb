{
 "cells": [
  {
   "cell_type": "code",
   "execution_count": 1,
   "metadata": {},
   "outputs": [],
   "source": [
    "import numpy as np\n",
    "import matplotlib.pyplot as plt\n",
    "import seaborn as sns\n",
    "import pandas as pd\n",
    "import time"
   ]
  },
  {
   "cell_type": "code",
   "execution_count": 2,
   "metadata": {},
   "outputs": [],
   "source": [
    "from sklearn.manifold import TSNE"
   ]
  },
  {
   "cell_type": "markdown",
   "metadata": {},
   "source": [
    "## Generate sintatic data"
   ]
  },
  {
   "cell_type": "code",
   "execution_count": 91,
   "metadata": {},
   "outputs": [],
   "source": [
    "np.random.seed(50)"
   ]
  },
  {
   "cell_type": "code",
   "execution_count": 92,
   "metadata": {},
   "outputs": [],
   "source": [
    "num_class_1 = 100\n",
    "num_class_2 = 100"
   ]
  },
  {
   "cell_type": "code",
   "execution_count": 93,
   "metadata": {},
   "outputs": [],
   "source": [
    "mean1 = np.array([1,1])\n",
    "cov1 =  np.array([[1, 0.2],[0.2, 1]])\n",
    "X1 = np.random.multivariate_normal(mean1, cov1, num_class_1)\n",
    "y1 = np.zeros((num_class_1))"
   ]
  },
  {
   "cell_type": "code",
   "execution_count": 94,
   "metadata": {},
   "outputs": [],
   "source": [
    "mean2 = np.array([10,1])\n",
    "cov2 =  np.array([[0.1, 0],[0, 0.1]])\n",
    "X2 = np.random.multivariate_normal(mean2, cov2, num_class_2)\n",
    "y2 = np.ones((num_class_2))"
   ]
  },
  {
   "cell_type": "code",
   "execution_count": 95,
   "metadata": {},
   "outputs": [
    {
     "data": {
      "image/png": "[encoded data removed]",
      "text/plain": [
       "<Figure size 432x288 with 1 Axes>"
      ]
     },
     "metadata": {
      "needs_background": "light"
     },
     "output_type": "display_data"
    }
   ],
   "source": [
    "plt.plot(X1[:,0], X1[:,1], 'ro')\n",
    "plt.plot(X2[:,0], X2[:,1], 'bo')\n",
    "plt.xlim([-3, 13])\n",
    "plt.ylim([-4, 6])\n",
    "plt.legend(['class1', 'class2'])\n",
    "plt.title('Sytetic data')\n",
    "plt.xlabel('x1')\n",
    "plt.ylabel('x2')\n",
    "plt.show()"
   ]
  },
  {
   "cell_type": "code",
   "execution_count": 96,
   "metadata": {},
   "outputs": [],
   "source": [
    "X = np.concatenate((X1, X2), axis = 0)\n",
    "y = np.concatenate((y1, y2), axis = 0)"
   ]
  },
  {
   "cell_type": "code",
   "execution_count": 97,
   "metadata": {},
   "outputs": [],
   "source": [
    "t_SNE = TSNE(n_components = 2, perplexity = 20, early_exaggeration = 1, method=\"exact\")"
   ]
  },
  {
   "cell_type": "code",
   "execution_count": 98,
   "metadata": {},
   "outputs": [],
   "source": [
    "start_time = time.time()\n",
    "X_trans = t_SNE.fit_transform(X)\n",
    "elapsed_time = time.time() - start_time"
   ]
  },
  {
   "cell_type": "code",
   "execution_count": 99,
   "metadata": {},
   "outputs": [
    {
     "name": "stdout",
     "output_type": "stream",
     "text": [
      "The execution of t-SNE last for  1.690448522567749 s\n"
     ]
    }
   ],
   "source": [
    "print(\"The execution of t-SNE last for \", elapsed_time, \"s\")"
   ]
  },
  {
   "cell_type": "code",
   "execution_count": 90,
   "metadata": {},
   "outputs": [
    {
     "data": {
      "image/png": "[encoded data removed]",
      "text/plain": [
       "<Figure size 432x288 with 1 Axes>"
      ]
     },
     "metadata": {
      "needs_background": "light"
     },
     "output_type": "display_data"
    }
   ],
   "source": [
    "plt.plot(X_trans[np.where(y == 0),0], X_trans[np.where(y == 0),1], 'ro')\n",
    "plt.plot(X_trans[np.where(y == 1),0], X_trans[np.where(y == 1),1], 'bo')\n",
    "plt.legend(['class1', 'class2'])\n",
    "plt.title('t-SNE on sytetic data')\n",
    "plt.xlabel('x1')\n",
    "plt.ylabel('x2')\n",
    "plt.show()"
   ]
  },
  {
   "cell_type": "code",
   "execution_count": 7,
   "metadata": {},
   "outputs": [],
   "source": [
    "test_arr = np.array([[1,2,1], [3,4,1], [3,2,2]])"
   ]
  },
  {
   "cell_type": "code",
   "execution_count": 8,
   "metadata": {},
   "outputs": [
    {
     "data": {
      "text/plain": [
       "array([[1, 2, 1],\n",
       "       [3, 4, 1],\n",
       "       [3, 2, 2]])"
      ]
     },
     "execution_count": 8,
     "metadata": {},
     "output_type": "execute_result"
    }
   ],
   "source": [
    "test_arr"
   ]
  },
  {
   "cell_type": "code",
   "execution_count": 11,
   "metadata": {},
   "outputs": [
    {
     "data": {
      "text/plain": [
       "array([4, 8, 7])"
      ]
     },
     "execution_count": 11,
     "metadata": {},
     "output_type": "execute_result"
    }
   ],
   "source": [
    "np.sum(test_arr, 1)"
   ]
  },
  {
   "cell_type": "code",
   "execution_count": 9,
   "metadata": {},
   "outputs": [],
   "source": [
    "def compute_pairwise_distances(X, metric):\n",
    "    if (metric == \"euclidean\") :\n",
    "        distance = np.zeros((X.shape[0], X.shape[0]))\n",
    "        start_time = time.time()\n",
    "        for i in np.arange(0, X.shape[0]):\n",
    "             distance[i,:] = np.sum((X - X[i, :])**2, axis = 1)\n",
    "        elapsed_time = time.time() - start_time    \n",
    "        print(\"last for \", elapsed_time, \"s\")\n",
    "           \n",
    "        return distance\n",
    "        \n",
    "    else:\n",
    "        raise ValueError(\"Incorrect type of metric.\")"
   ]
  },
  {
   "cell_type": "markdown",
   "metadata": {},
   "source": [
    "## Perplexity"
   ]
  },
  {
   "cell_type": "code",
   "execution_count": 13,
   "metadata": {},
   "outputs": [],
   "source": [
    "import math"
   ]
  },
  {
   "cell_type": "code",
   "execution_count": 14,
   "metadata": {},
   "outputs": [],
   "source": [
    "def compute_pairwise_joint_probabilities(distances, perplexity, n_iter = 100, min_error_preplexity = 1e-4):\n",
    "   \n",
    "    n_samples = distances.shape[0]\n",
    "    P_conditional = np.zeros((n_samples, n_samples))\n",
    "    goal_entropy = np.log2(perplexity)\n",
    "\n",
    "    # for each sample calculate optimal sigma_i\n",
    "    for i in np.arange(0, n_samples):\n",
    "        sigma_max = math.inf\n",
    "        sigma_min = -math.inf\n",
    "        sigma_i = 1\n",
    "        \n",
    "        # binary search for sigma_i\n",
    "        for j in np.arange(0, n_iter):\n",
    "            try:\n",
    "                nominator = np.exp(- distances[i,:] / (2*sigma_i**2))\n",
    "            except:\n",
    "                print(\"Error\")\n",
    "            nominator[i] = 1e-10\n",
    "            sum_Pi = np.sum(nominator)\n",
    "            if  sum_Pi == 0:\n",
    "                sum_Pi = 1e-10\n",
    "                \n",
    "            P_conditional[i,:] = nominator / sum_Pi\n",
    "            \n",
    "            # Check if this is running faster\n",
    "            #sum_distance =  np.sum(P_conditional[i,:] * distances[i,:])\n",
    "            # entropy = np.log2(sum_Pi) + sum_distance  / (2*sigma_i**2)\n",
    "            \n",
    "            entropy =  - np.sum(P_conditional[i,:] * np.log2(P_conditional[i,:] + 1e-10))\n",
    "            entropy_diff = entropy - goal_entropy\n",
    "            \n",
    "            if np.abs(entropy_diff) < min_error_preplexity:\n",
    "                break\n",
    "            \n",
    "            if entropy_diff < 0:\n",
    "                sigma_min = sigma_i\n",
    "                if sigma_max == math.inf:\n",
    "                    sigma_i = sigma_i * 2\n",
    "                else:\n",
    "                    sigma_i = (sigma_i + sigma_max)/ 2\n",
    "                \n",
    "            else:\n",
    "                sigma_max = sigma_i\n",
    "                if sigma_min == -math.inf:\n",
    "                    sigma_i = sigma_i / 2\n",
    "                else:\n",
    "                    sigma_i = (sigma_i + sigma_min)/ 2\n",
    "            \n",
    "    P = P_conditional + P_conditional.T\n",
    "    sum_P = np.maximum(np.sum(P), 1e-7)\n",
    "    P = np.maximum(P / sum_P, 1e-7)\n",
    "    return P"
   ]
  },
  {
   "cell_type": "code",
   "execution_count": 15,
   "metadata": {},
   "outputs": [
    {
     "name": "stdout",
     "output_type": "stream",
     "text": [
      "last for  0.08379769325256348 s\n"
     ]
    }
   ],
   "source": [
    "distances = compute_pairwise_distances(X, \"euclidean\")"
   ]
  },
  {
   "cell_type": "code",
   "execution_count": 17,
   "metadata": {},
   "outputs": [],
   "source": [
    "P = compute_pairwise_joint_probabilities(distances = distances, perplexity = 30, n_iter = 100, min_error_preplexity = 1e-4)"
   ]
  },
  {
   "cell_type": "code",
   "execution_count": 18,
   "metadata": {},
   "outputs": [
    {
     "data": {
      "text/plain": [
       "<matplotlib.image.AxesImage at 0x1c0639d91c8>"
      ]
     },
     "execution_count": 18,
     "metadata": {},
     "output_type": "execute_result"
    },
    {
     "data": {
      "image/png": "[encoded data removed]",
      "text/plain": [
       "<Figure size 432x288 with 1 Axes>"
      ]
     },
     "metadata": {
      "needs_background": "light"
     },
     "output_type": "display_data"
    }
   ],
   "source": [
    "plt.imshow(P)"
   ]
  },
  {
   "cell_type": "code",
   "execution_count": 19,
   "metadata": {},
   "outputs": [],
   "source": [
    "test_arr = np.array([[1,2,4], [3,4,1], [3,2,2]])"
   ]
  },
  {
   "cell_type": "code",
   "execution_count": 20,
   "metadata": {},
   "outputs": [
    {
     "data": {
      "text/plain": [
       "array([[1, 2, 4],\n",
       "       [3, 4, 1],\n",
       "       [3, 2, 2]])"
      ]
     },
     "execution_count": 20,
     "metadata": {},
     "output_type": "execute_result"
    }
   ],
   "source": [
    "test_arr"
   ]
  },
  {
   "cell_type": "code",
   "execution_count": 25,
   "metadata": {},
   "outputs": [
    {
     "data": {
      "text/plain": [
       "array([1, 2, 4])"
      ]
     },
     "execution_count": 25,
     "metadata": {},
     "output_type": "execute_result"
    }
   ],
   "source": [
    "np.ravel(test_arr[0], order='K')"
   ]
  },
  {
   "cell_type": "code",
   "execution_count": 26,
   "metadata": {},
   "outputs": [
    {
     "data": {
      "text/plain": [
       "array([1, 2, 4])"
      ]
     },
     "execution_count": 26,
     "metadata": {},
     "output_type": "execute_result"
    }
   ],
   "source": [
    "test_arr[0]"
   ]
  },
  {
   "cell_type": "code",
   "execution_count": 28,
   "metadata": {},
   "outputs": [
    {
     "data": {
      "text/plain": [
       "array([1, 2, 4, 3, 4, 1, 3, 2, 2])"
      ]
     },
     "execution_count": 28,
     "metadata": {},
     "output_type": "execute_result"
    }
   ],
   "source": [
    "test_arr.ravel()"
   ]
  },
  {
   "cell_type": "code",
   "execution_count": 30,
   "metadata": {},
   "outputs": [
    {
     "data": {
      "text/plain": [
       "TSNE(angle=0.5, early_exaggeration=12.0, init='random', learning_rate=200.0,\n",
       "     method='barnes_hut', metric='euclidean', min_grad_norm=1e-07,\n",
       "     n_components=2, n_iter=1000, n_iter_without_progress=300, n_jobs=None,\n",
       "     perplexity=30, random_state=None, verbose=0)"
      ]
     },
     "execution_count": 30,
     "metadata": {},
     "output_type": "execute_result"
    }
   ],
   "source": [
    "t_SNE"
   ]
  },
  {
   "cell_type": "code",
   "execution_count": null,
   "metadata": {},
   "outputs": [],
   "source": []
  }
 ],
 "metadata": {
  "kernelspec": {
   "display_name": "Python 3",
   "language": "python",
   "name": "python3"
  },
  "language_info": {
   "codemirror_mode": {
    "name": "ipython",
    "version": 3
   },
   "file_extension": ".py",
   "mimetype": "text/x-python",
   "name": "python",
   "nbconvert_exporter": "python",
   "pygments_lexer": "ipython3",
   "version": "3.7.3"
  }
 },
 "nbformat": 4,
 "nbformat_minor": 4
}
